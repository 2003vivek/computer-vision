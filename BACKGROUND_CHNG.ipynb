{
 "cells": [
  {
   "cell_type": "code",
   "execution_count": 1,
   "id": "d4824360",
   "metadata": {},
   "outputs": [
    {
     "name": "stdout",
     "output_type": "stream",
     "text": [
      "WARNING:tensorflow:From C:\\Users\\user\\anaconda3\\lib\\site-packages\\keras\\src\\losses.py:2976: The name tf.losses.sparse_softmax_cross_entropy is deprecated. Please use tf.compat.v1.losses.sparse_softmax_cross_entropy instead.\n",
      "\n"
     ]
    }
   ],
   "source": [
    "import cvzone\n",
    "import cv2 as cv\n",
    "import mediapipe as mp\n",
    "import os\n",
    "from cvzone.SelfiSegmentationModule import SelfiSegmentation"
   ]
  },
  {
   "cell_type": "code",
   "execution_count": 2,
   "id": "5f8598f6",
   "metadata": {},
   "outputs": [],
   "source": [
    "cap=cv.VideoCapture(0)\n",
    "cap.set(3,640)\n",
    "cap.set(4,480)\n",
    "segmentor=SelfiSegmentation()\n",
    "imgbg=cv.imread('backgroundimages/bg2.jpg')\n",
    "imgbg=cv.resize(imgbg,(640,480))\n",
    "listimages=os.listdir('backgroundimages')\n",
    "imglist=[]\n",
    "for img in listimages:\n",
    "    img=cv.imread(f'backgroundimages/{img}')\n",
    "    img=cv.resize(img,(640,480))\n",
    "    imglist.append(img)\n",
    "imgindex=0\n",
    "\n",
    "while True:\n",
    "    ret,frame=cap.read()\n",
    "    bg=segmentor.removeBG(frame,imglist[imgindex],.85)\n",
    "#     cv.imshow('frame',frame)\n",
    "    cv.imshow('bg',bg)\n",
    "    key=cv.waitKey(1)\n",
    "    if key==ord('q'):\n",
    "        break\n",
    "    if key==ord('a'):\n",
    "        if imgindex<=3 and imgindex>=0:\n",
    "            imgindex+=1\n",
    "        else:\n",
    "            imgindex=0\n",
    "    if key==ord('s'):\n",
    "        if imgindex>=0 and imgindex<=3:\n",
    "            imgindex-=1\n",
    "        else:\n",
    "            imgindex=3\n",
    "cap.release()\n",
    "cv.destroyAllWindows()"
   ]
  },
  {
   "cell_type": "code",
   "execution_count": null,
   "id": "019d8d75",
   "metadata": {},
   "outputs": [],
   "source": []
  }
 ],
 "metadata": {
  "kernelspec": {
   "display_name": "Python 3 (ipykernel)",
   "language": "python",
   "name": "python3"
  },
  "language_info": {
   "codemirror_mode": {
    "name": "ipython",
    "version": 3
   },
   "file_extension": ".py",
   "mimetype": "text/x-python",
   "name": "python",
   "nbconvert_exporter": "python",
   "pygments_lexer": "ipython3",
   "version": "3.9.13"
  }
 },
 "nbformat": 4,
 "nbformat_minor": 5
}
