{
 "cells": [
  {
   "cell_type": "code",
   "execution_count": 1,
   "id": "c58fda55",
   "metadata": {},
   "outputs": [
    {
     "name": "stdout",
     "output_type": "stream",
     "text": [
      "WARNING:tensorflow:From C:\\Users\\user\\anaconda3\\lib\\site-packages\\keras\\src\\losses.py:2976: The name tf.losses.sparse_softmax_cross_entropy is deprecated. Please use tf.compat.v1.losses.sparse_softmax_cross_entropy instead.\n",
      "\n"
     ]
    }
   ],
   "source": [
    "import cv2 as cv\n",
    "import numpy as np\n",
    "import os\n",
    "from cvzone.HandTrackingModule import HandDetector"
   ]
  },
  {
   "cell_type": "code",
   "execution_count": 29,
   "id": "2facd18b",
   "metadata": {},
   "outputs": [],
   "source": [
    "folderpath=\"virtual paints/\"\n",
    "detector=HandDetector(detectionCon=0.85)\n",
    "mypaints=os.listdir(folderpath)\n",
    "overlaylist=[]\n",
    "drawcolor=(0,0,255)\n",
    "for img in mypaints:\n",
    "    image=cv.imread(f'{folderpath}/{img}')\n",
    "    overlaylist.append(image)\n",
    "# print(len(overlaylist))\n",
    "header=overlaylist[0]\n",
    "cap=cv.VideoCapture(0)\n",
    "cap.set(3,1280)\n",
    "cap.set(4,700)\n",
    "xp,yp=0,0\n",
    "\n",
    "imagecanvas=np.zeros((720,1280,3),np.uint8)\n",
    "while True:\n",
    "    ret,frame=cap.read()\n",
    "    frame[0:125,0:1280]=header\n",
    "    hands,frame=detector.findHands(frame,draw=True,flipType=False)\n",
    "    if hands:\n",
    "        lmList = hands[0]['lmList']\n",
    "        \n",
    "        \n",
    "        finger_tip_indices = [8, 12, 16, 20]\n",
    "        \n",
    "        \n",
    "        fingers_up = [1 if lmList[i][1] < lmList[i - 1][1] else 0 for i in finger_tip_indices]\n",
    "        \n",
    "        if fingers_up[0] and fingers_up[1]:\n",
    "            if lmList[8][1]<125:\n",
    "                print('on top')\n",
    "                if 200<lmList[8][0]<300:\n",
    "                    header=overlaylist[0]\n",
    "                    drawcolor=drawcolor\n",
    "                elif 400<lmList[8][0]<500:\n",
    "                    header=overlaylist[1]\n",
    "                    drawcolor=(0,255,255)\n",
    "                elif 600<lmList[8][0]<700:\n",
    "                    header=overlaylist[2]\n",
    "                    drawcolor=(255,0,0)\n",
    "                elif 700<lmList[8][0]<800:\n",
    "                    header=overlaylist[3]\n",
    "                    drawcolor=(0,255,0)\n",
    "                elif 800<lmList[8][0]<900:\n",
    "                    header=overlaylist[4]\n",
    "                    drawcolor=(0,0,0)\n",
    "            cv.rectangle(frame,(lmList[8][0],lmList[8][1]+15),(lmList[12][0],lmList[12][1]+15),drawcolor,-1)\n",
    "                \n",
    "        else:\n",
    "            cv.circle(frame,(lmList[8][0],lmList[8][1]),(5),drawcolor,-1)\n",
    "            if drawcolor==(0,0,0):\n",
    "                cv.line(imagecanvas,(xp,yp),(lmList[8][0],lmList[8][1]),drawcolor,55)\n",
    "                cv.circle(frame,(lmList[8][0],lmList[8][1]),(5),drawcolor,-1)\n",
    "                \n",
    "                \n",
    "            \n",
    "            if xp==0 and yp==0:\n",
    "                xp,yp=lmList[8][0],lmList[8][1]\n",
    "            cv.line(imagecanvas,(xp,yp),(lmList[8][0],lmList[8][1]),drawcolor,2)\n",
    "            xp,yp=lmList[8][0],lmList[8][1]\n",
    "        \n",
    "    grayframe=cv.cvtColor(imagecanvas,cv.COLOR_BGR2GRAY) # making colors brighter\n",
    "    _,imgInv=cv.threshold(grayframe,50,255,cv.THRESH_BINARY_INV)\n",
    "    imgInv=cv.cvtColor(imgInv,cv.COLOR_GRAY2BGR)\n",
    "    frame=cv.bitwise_and(frame,imgInv)\n",
    "    frame=cv.bitwise_or(frame,imagecanvas)\n",
    "    \n",
    "    \n",
    "    frame=cv.addWeighted(frame,1.0,imagecanvas,1.0,0)\n",
    "    \n",
    "    cv.imshow('frame',frame)\n",
    "    cv.imshow('canvas',imagecanvas)\n",
    "    key=cv.waitKey(1)\n",
    "    if key==ord('q'):\n",
    "        break\n",
    "cap.release()\n",
    "cv.destroyAllWindows()\n",
    "    "
   ]
  },
  {
   "cell_type": "code",
   "execution_count": null,
   "id": "0936df14",
   "metadata": {},
   "outputs": [],
   "source": []
  }
 ],
 "metadata": {
  "kernelspec": {
   "display_name": "Python 3 (ipykernel)",
   "language": "python",
   "name": "python3"
  },
  "language_info": {
   "codemirror_mode": {
    "name": "ipython",
    "version": 3
   },
   "file_extension": ".py",
   "mimetype": "text/x-python",
   "name": "python",
   "nbconvert_exporter": "python",
   "pygments_lexer": "ipython3",
   "version": "3.9.13"
  }
 },
 "nbformat": 4,
 "nbformat_minor": 5
}
