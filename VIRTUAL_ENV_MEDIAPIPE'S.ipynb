{
 "cells": [
  {
   "cell_type": "code",
   "execution_count": 1,
   "id": "3e5e92b6",
   "metadata": {},
   "outputs": [
    {
     "name": "stdout",
     "output_type": "stream",
     "text": [
      "WARNING:tensorflow:From C:\\Users\\user\\anaconda3\\lib\\site-packages\\keras\\src\\losses.py:2976: The name tf.losses.sparse_softmax_cross_entropy is deprecated. Please use tf.compat.v1.losses.sparse_softmax_cross_entropy instead.\n",
      "\n"
     ]
    }
   ],
   "source": [
    "import mediapipe as mp\n",
    "import cv2 as cv\n",
    "import pyautogui\n"
   ]
  },
  {
   "cell_type": "code",
   "execution_count": 4,
   "id": "60748976",
   "metadata": {},
   "outputs": [],
   "source": [
    "cap=cv.VideoCapture(0)\n",
    "hand_detector=mp.solutions.hands.Hands()\n",
    "drawing_utils=mp.solutions.drawing_utils\n",
    "screen_width,screen_height=pyautogui.size()\n",
    "index_y=0\n",
    "while True:\n",
    "    \n",
    "    ret,frame=cap.read()\n",
    "    frame=cv.flip(frame,1) # y axis\n",
    "    frame_height,frame_width,_=frame.shape\n",
    "    rgb_frame=cv.cvtColor(frame,cv.COLOR_BGR2RGB)\n",
    "    output=hand_detector.process(rgb_frame)\n",
    "    hands=output.multi_hand_landmarks\n",
    "    if hands:\n",
    "\n",
    "        for hand in hands:\n",
    "            drawing_utils.draw_landmarks(frame,hand)\n",
    "            landmarks=hand.landmark\n",
    "            for id,landmark in enumerate(landmarks):\n",
    "                x=int(landmark.x*frame_width)\n",
    "                y=int(landmark.y*frame_height)\n",
    "                if id==8:\n",
    "                    cv.circle(frame,(x,y),10,[0,255,255],-1)\n",
    "                    index_x=screen_width/frame_width *x\n",
    "                    index_y=screen_height/frame_height *y\n",
    "                    pyautogui.moveTo(index_x,index_y)\n",
    "                if id==4:\n",
    "                    cv.circle(frame,(x,y),10,[0,255,255],-1)\n",
    "                    thumb_x=screen_width/frame_width *x\n",
    "                    thumb_y=screen_height/frame_height *y\n",
    "                    if abs(index_y-thumb_y)<20:\n",
    "                        pyautogui.click()\n",
    "                        pyautogui.sleep(1)\n",
    "                        \n",
    "            \n",
    "                \n",
    "    cv.imshow('frame',frame)\n",
    "    if cv.waitKey(3)==ord('q'):\n",
    "        break\n",
    "cap.release()\n",
    "cv.destroyAllWindows()"
   ]
  },
  {
   "cell_type": "code",
   "execution_count": null,
   "id": "ded9f995",
   "metadata": {},
   "outputs": [],
   "source": []
  },
  {
   "cell_type": "code",
   "execution_count": null,
   "id": "f90f0913",
   "metadata": {},
   "outputs": [],
   "source": []
  }
 ],
 "metadata": {
  "kernelspec": {
   "display_name": "Python 3 (ipykernel)",
   "language": "python",
   "name": "python3"
  },
  "language_info": {
   "codemirror_mode": {
    "name": "ipython",
    "version": 3
   },
   "file_extension": ".py",
   "mimetype": "text/x-python",
   "name": "python",
   "nbconvert_exporter": "python",
   "pygments_lexer": "ipython3",
   "version": "3.9.13"
  }
 },
 "nbformat": 4,
 "nbformat_minor": 5
}
