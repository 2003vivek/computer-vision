{
 "cells": [
  {
   "cell_type": "code",
   "execution_count": 1,
   "id": "4c5839f3",
   "metadata": {},
   "outputs": [],
   "source": [
    "import cv2 as cv\n",
    "from cv2 import aruco\n",
    "import numpy as np"
   ]
  },
  {
   "cell_type": "code",
   "execution_count": 2,
   "id": "712a69f3",
   "metadata": {},
   "outputs": [],
   "source": [
    "marker_dict=aruco.getPredefinedDictionary(aruco.DICT_4X4_50)\n",
    "MARKER_SIZE=400 #pixels"
   ]
  },
  {
   "cell_type": "code",
   "execution_count": 24,
   "id": "83501058",
   "metadata": {},
   "outputs": [],
   "source": [
    "for id in range(20):\n",
    "#     marker_img=aruco.drawMarker(marker_dict,id,MARKER_SIZE)\n",
    "    marker_img=aruco.generateImageMarker(marker_dict,id,MARKER_SIZE)\n",
    "\n",
    "    cv.imshow('marker',marker_img)\n",
    "#     cv.imwrite(f'markers/marker_{id}.png',marker_img)\n",
    "    cv.waitKey(0)\n",
    "    break"
   ]
  },
  {
   "cell_type": "code",
   "execution_count": 3,
   "id": "3005a55d",
   "metadata": {},
   "outputs": [],
   "source": [
    "## detecting aruco markers\n",
    "param_marker=aruco.DetectorParameters()\n",
    "detector = cv.aruco.ArucoDetector(marker_dict, param_marker)\n",
    "cap=cv.VideoCapture(0)\n",
    "while True:\n",
    "    ret,frame=cap.read()\n",
    "    if not ret:\n",
    "        break\n",
    "    gray_frame=cv.cvtColor(frame,cv.COLOR_BGR2GRAY)\n",
    "    marker_corners,marker_id,reject=detector.detectMarkers(gray_frame)\n",
    "    if marker_id is not None:\n",
    "        for ids,corner in zip(marker_id,marker_corners):\n",
    "            cv.polylines(frame,[corner.astype(np.int32)],True,(0,255,255),4,cv.LINE_AA)\n",
    "            cv.putText(frame,f'id:{ids}',(50,50),cv.FONT_HERSHEY_COMPLEX,1,(0,255,255),2)\n",
    "#             print(ids,corner)\n",
    "    cv.imshow('video',frame)\n",
    "    key=cv.waitKey(1)\n",
    "    if key==ord('q'):\n",
    "        break\n",
    "cap.release()\n",
    "cv.destroyAllWindows()"
   ]
  },
  {
   "cell_type": "code",
   "execution_count": 17,
   "id": "7ce67575",
   "metadata": {},
   "outputs": [],
   "source": [
    "#building image augumentation\n",
    "def image_augumentation(frame,src_image,target_points):\n",
    "    src_h,src_w=src_image.shape[:2]\n",
    "    frame_h,frame_w=frame.shape[:2]\n",
    "    mask=np.zeros((frame_h,frame_w),dtype=np.uint8)\n",
    "    src_points=np.array([[0,0],[src_w,0],[src_w,src_h],[0,src_w]])\n",
    "    H,_=cv.findHomography(src_points,target_points)\n",
    "    warp_image=cv.warpPerspective(src_image,H,(frame_w,frame_h))\n",
    "    cv.imshow('warp',warp_image)\n",
    "    cv.fillConvexPoly(mask,target_points,255)\n",
    "    results=cv.bitwise_and(warp_image,warp_image,frame,mask=mask)"
   ]
  },
  {
   "cell_type": "code",
   "execution_count": 18,
   "id": "7fe8bea6",
   "metadata": {},
   "outputs": [],
   "source": [
    "## detecting aruco markers\n",
    "param_marker=aruco.DetectorParameters()\n",
    "detector = cv.aruco.ArucoDetector(marker_dict, param_marker)\n",
    "cap=cv.VideoCapture(0)\n",
    "while True:\n",
    "    ret,frame=cap.read()\n",
    "    if not ret:\n",
    "        break\n",
    "    gray_frame=cv.cvtColor(frame,cv.COLOR_BGR2GRAY)\n",
    "    marker_corners,marker_id,reject=detector.detectMarkers(gray_frame)\n",
    "    aug_img=cv.imread('test_ronaldo.jpg')\n",
    "    if marker_id is not None:\n",
    "        for ids,corner in zip(marker_id,marker_corners):\n",
    "            corner=corner.reshape(4,2)\n",
    "            corner=corner.astype(int)\n",
    "            image_augumentation(frame,aug_img,corner)\n",
    "    cv.imshow('video',frame)\n",
    "    key=cv.waitKey(1)\n",
    "    if key==ord('q'):\n",
    "        break\n",
    "cap.release()\n",
    "cv.destroyAllWindows()"
   ]
  },
  {
   "cell_type": "code",
   "execution_count": null,
   "id": "955b18eb",
   "metadata": {},
   "outputs": [],
   "source": []
  },
  {
   "cell_type": "code",
   "execution_count": null,
   "id": "4c5857f1",
   "metadata": {},
   "outputs": [],
   "source": []
  }
 ],
 "metadata": {
  "kernelspec": {
   "display_name": "Python 3 (ipykernel)",
   "language": "python",
   "name": "python3"
  },
  "language_info": {
   "codemirror_mode": {
    "name": "ipython",
    "version": 3
   },
   "file_extension": ".py",
   "mimetype": "text/x-python",
   "name": "python",
   "nbconvert_exporter": "python",
   "pygments_lexer": "ipython3",
   "version": "3.9.13"
  }
 },
 "nbformat": 4,
 "nbformat_minor": 5
}
