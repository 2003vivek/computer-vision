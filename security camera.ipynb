{
 "cells": [
  {
   "cell_type": "code",
   "execution_count": 1,
   "id": "3a624aaf",
   "metadata": {},
   "outputs": [],
   "source": [
    "import cv2 as cv\n",
    "import numpy as np"
   ]
  },
  {
   "cell_type": "code",
   "execution_count": null,
   "id": "9a77d9a6",
   "metadata": {},
   "outputs": [],
   "source": [
    "## moving object tracking for security\n",
    "\n",
    "kernel=np.ones((3,3))\n",
    "def frame_diff(prev_frame,curr_frame,next_frame):\n",
    "    diff_frame1=cv.absdiff(next_frame,curr_frame)\n",
    "    diff_frame2=cv.absdiff(curr_frame,prev_frame)\n",
    "    return cv.bitwise_and(diff_frame1,diff_frame2)\n",
    "\n",
    "def get_frame(cap):\n",
    "    ret,frame=cap.read()\n",
    "    frame=cv.resize(frame,None,fx=scaling_factor,fy=scaling_factor,interpolation=cv.INTER_AREA)\n",
    "    return cv.cvtColor(frame,cv.COLOR_BGR2GRAY)\n",
    "if __name__=='__main__':\n",
    "    cap=cv.VideoCapture(0)\n",
    "    scaling_factor=0.9\n",
    "    prev_frame=get_frame(cap)\n",
    "    curr_frame=get_frame(cap)    \n",
    "    next_frame=get_frame(cap)    \n",
    "    \n",
    "    while True:\n",
    "        frame_difference=frame_diff(prev_frame,curr_frame,next_frame)\n",
    "        _,frame_TH=cv.threshold(frame_difference,0,255,cv.THRESH_TRIANGLE)\n",
    "        \n",
    "        cv.imshow('object movement',frame_difference)\n",
    "        cv.imshow('th',frame_TH)\n",
    "        prev_frame=curr_frame\n",
    "        curr_frame=next_frame\n",
    "        next_frame=get_frame(cap)\n",
    "        if cv.waitKey(3)==ord('q'):\n",
    "            break\n",
    "cap.release()\n",
    "cv.destroyAllWindows()\n",
    "        "
   ]
  }
 ],
 "metadata": {
  "kernelspec": {
   "display_name": "Python 3 (ipykernel)",
   "language": "python",
   "name": "python3"
  },
  "language_info": {
   "codemirror_mode": {
    "name": "ipython",
    "version": 3
   },
   "file_extension": ".py",
   "mimetype": "text/x-python",
   "name": "python",
   "nbconvert_exporter": "python",
   "pygments_lexer": "ipython3",
   "version": "3.9.13"
  }
 },
 "nbformat": 4,
 "nbformat_minor": 5
}
