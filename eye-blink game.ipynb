{
 "cells": [
  {
   "cell_type": "code",
   "execution_count": 1,
   "id": "c24df007",
   "metadata": {},
   "outputs": [],
   "source": [
    "import cv2 as cv\n",
    "import numpy as np"
   ]
  },
  {
   "cell_type": "code",
   "execution_count": null,
   "id": "7d7df10a",
   "metadata": {},
   "outputs": [],
   "source": [
    "#eye blink detector\n",
    "face_cascade=cv.CascadeClassifier('haar_face_detect.xml')\n",
    "eye_cascade=cv.CascadeClassifier('haarcascade_eye_tree_eyeglasses.xml')\n",
    "\n",
    "first_read=True\n",
    "cap=cv.VideoCapture(0)\n",
    "ret,img=cap.read()\n",
    "while True:\n",
    "    ret,img=cap.read()\n",
    "    gray=cv.cvtColor(img,cv.COLOR_BGR2GRAY)\n",
    "    gray=cv.bilateralFilter(gray,5,1,1)\n",
    "    faces=face_cascade.detectMultiScale(gray,1.3,5,minSize=(200,200))\n",
    "    if (len(faces)>0):\n",
    "        for(x,y,w,h) in faces:\n",
    "            img=cv.rectangle(img,(x,y),(x+w,y+h),(0,255,0),2)\n",
    "            roi_face=gray[y:y+h,x:x+w]\n",
    "            roi_facce_clr=img[y:y+h,x:x+w]\n",
    "            eyes=eye_cascade.detectMultiScale(roi_face,1.3,5,minSize=(50,50))\n",
    "            if(len(eyes)>=2):\n",
    "                if(first_read):\n",
    "                    cv.putText(img,\"press s to begin\",(100,100),cv.FONT_HERSHEY_COMPLEX,3,(0,255,0),2)\n",
    "                    \n",
    "                else:\n",
    "                    print('-----------------------------------')\n",
    "            else:\n",
    "                if(first_read):\n",
    "                    cv.putText(img,\"No eyes detected\",(100,100),cv.FONT_HERSHEY_COMPLEX,3,(0,255,0),2)\n",
    "                    \n",
    "                else:\n",
    "                    print('you lost')\n",
    "                    first_read=True\n",
    "    else:\n",
    "        cv.putText(img,\"No face detected\",(100,100),cv.FONT_HERSHEY_COMPLEX,3,(0,255,0),2)\n",
    "    cv.imshow('img',img)\n",
    "    key=cv.waitKey(1)\n",
    "    if key==ord('q'):\n",
    "        break\n",
    "    elif key==ord('s') and first_read:\n",
    "        first_read=False\n",
    "cap.release()\n",
    "cv.destroyAllWindows()"
   ]
  }
 ],
 "metadata": {
  "kernelspec": {
   "display_name": "Python 3 (ipykernel)",
   "language": "python",
   "name": "python3"
  },
  "language_info": {
   "codemirror_mode": {
    "name": "ipython",
    "version": 3
   },
   "file_extension": ".py",
   "mimetype": "text/x-python",
   "name": "python",
   "nbconvert_exporter": "python",
   "pygments_lexer": "ipython3",
   "version": "3.9.13"
  }
 },
 "nbformat": 4,
 "nbformat_minor": 5
}
