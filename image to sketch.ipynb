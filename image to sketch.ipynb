{
 "cells": [
  {
   "cell_type": "code",
   "execution_count": 1,
   "id": "8e8144a0",
   "metadata": {},
   "outputs": [],
   "source": [
    "import cv2 as cv\n",
    "import numpy as np"
   ]
  },
  {
   "cell_type": "code",
   "execution_count": null,
   "id": "022802e2",
   "metadata": {},
   "outputs": [],
   "source": [
    "img=cv.imread('photo.jpg')\n",
    "img_gray=cv.cvtColor(img,cv.COLOR_BGR2GRAY)\n",
    "img=cv.bitwise_not(img_gray)\n",
    "blur=cv.GaussianBlur(img,(15,15),sigmaX=0,sigmaY=0)\n",
    "def dodgeV2(x,y):\n",
    "    return cv.divide(x,255-y,scale=250)\n",
    "final_img = dodgeV2(img_gray,blur)\n",
    "cv.imshow('image',final_img)\n",
    "cv.imshow('image_original',img)\n",
    "\n",
    "cv.waitKey(0)"
   ]
  }
 ],
 "metadata": {
  "kernelspec": {
   "display_name": "Python 3 (ipykernel)",
   "language": "python",
   "name": "python3"
  },
  "language_info": {
   "codemirror_mode": {
    "name": "ipython",
    "version": 3
   },
   "file_extension": ".py",
   "mimetype": "text/x-python",
   "name": "python",
   "nbconvert_exporter": "python",
   "pygments_lexer": "ipython3",
   "version": "3.9.13"
  }
 },
 "nbformat": 4,
 "nbformat_minor": 5
}
