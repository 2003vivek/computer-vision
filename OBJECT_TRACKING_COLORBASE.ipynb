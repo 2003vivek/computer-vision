{
 "cells": [
  {
   "cell_type": "code",
   "execution_count": 1,
   "id": "3363f351",
   "metadata": {},
   "outputs": [],
   "source": [
    "import cv2 as cv\n",
    "import numpy as np"
   ]
  },
  {
   "cell_type": "code",
   "execution_count": null,
   "id": "ccac4f7c",
   "metadata": {},
   "outputs": [],
   "source": [
    "def setValue(x):\n",
    "    print('') # just a demo function for trackbars\n",
    "cv.namedWindow('color detector')\n",
    "cv.createTrackbar('upper hue','color detector',153,180,setValue)\n",
    "cv.createTrackbar('upper saturation','color detector',255,255,setValue)\n",
    "cv.createTrackbar('upper value','color detector',255,255,setValue)\n",
    "cv.createTrackbar('lower hue','color detector',64,180,setValue)\n",
    "cv.createTrackbar('lower saturation','color detector',72,255,setValue)\n",
    "cv.createTrackbar('lower value','color detector',49,255,setValue)\n",
    "\n",
    "def get_frame(cap,scaling_factor):\n",
    "    ret,frame=cap.read()\n",
    "    frame=cv.resize(frame,None,fx=scaling_factor,fy=scaling_factor,interpolation=cv.INTER_AREA)\n",
    "    return frame\n",
    "\n",
    "if __name__=='__main__':\n",
    "    cap=cv.VideoCapture(0)\n",
    "    scaling_factor=0.9\n",
    "    while True:\n",
    "        frame=get_frame(cap,scaling_factor)\n",
    "        hsv=cv.cvtColor(frame,cv.COLOR_BGR2HSV)\n",
    "        \n",
    "        u_hue=cv.getTrackbarPos('upper hue','color detector')\n",
    "        u_saturation=cv.getTrackbarPos('upper saturation','color detector') \n",
    "        u_value=cv.getTrackbarPos('upper value','color detector')      \n",
    "        l_hue=cv.getTrackbarPos('lower hue','color detector')         \n",
    "        l_saturation=cv.getTrackbarPos('lower saturation','color detector')         \n",
    "        l_value=cv.getTrackbarPos('lower value','color detector')    \n",
    "        \n",
    "        upper_hsv=np.array([u_hue,u_saturation,u_value])\n",
    "        lower_hsv=np.array([l_hue,l_saturation,l_value])   \n",
    "        \n",
    "        mask=cv.inRange(hsv,lower_hsv,upper_hsv)\n",
    "        res=cv.bitwise_and(frame,frame,mask=mask)\n",
    "        res=cv.medianBlur(res,5)\n",
    "        cv.imshow('original',frame)\n",
    "        cv.imshow('color_d',res)     \n",
    "        \n",
    "        if cv.waitKey(25) and 0xFF==ord('q'):\n",
    "            break\n",
    "cap.release()\n",
    "cv.destroyAllWindows()"
   ]
  },
  {
   "cell_type": "code",
   "execution_count": null,
   "id": "a56f7eb8",
   "metadata": {},
   "outputs": [],
   "source": []
  }
 ],
 "metadata": {
  "kernelspec": {
   "display_name": "Python 3 (ipykernel)",
   "language": "python",
   "name": "python3"
  },
  "language_info": {
   "codemirror_mode": {
    "name": "ipython",
    "version": 3
   },
   "file_extension": ".py",
   "mimetype": "text/x-python",
   "name": "python",
   "nbconvert_exporter": "python",
   "pygments_lexer": "ipython3",
   "version": "3.9.13"
  }
 },
 "nbformat": 4,
 "nbformat_minor": 5
}
