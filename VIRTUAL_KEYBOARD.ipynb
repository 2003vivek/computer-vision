{
 "cells": [
  {
   "cell_type": "code",
   "execution_count": 19,
   "id": "79249767",
   "metadata": {},
   "outputs": [],
   "source": [
    "import cv2 as cv\n",
    "from cvzone.HandTrackingModule import HandDetector\n",
    "from time import sleep\n",
    "from pynput.keyboard import Controller\n"
   ]
  },
  {
   "cell_type": "code",
   "execution_count": 23,
   "id": "2d494db3",
   "metadata": {},
   "outputs": [],
   "source": [
    "cap=cv.VideoCapture(0)\n",
    "cap.set(3,1280)\n",
    "cap.set(4,720)\n",
    "detector=HandDetector(detectionCon=0.8)\n",
    "keyboard=Controller()\n",
    "keys = [\n",
    "    ['Q', 'W', 'E', 'R', 'T', 'Y', 'U', 'I', 'O', 'P','[',']'],\n",
    "    ['A', 'S', 'D', 'F', 'G', 'H', 'J', 'K', 'L',';'],\n",
    "    ['Z', 'X', 'C', 'V', 'B', 'N', 'M',',','.','/']\n",
    "]\n",
    "def drawall(img,buttonlist):\n",
    "    for button in buttonlist:\n",
    "        x,y=button.pos\n",
    "        w,h=button.size\n",
    "        cv.rectangle(frame,button.pos,(x+w,y+h),(0,0,0),-1)\n",
    "        cv.putText(frame,button.text,(x+6,y+40),cv.FONT_HERSHEY_PLAIN,3,(255,255,255),2)\n",
    "    return img\n",
    "\n",
    "class Button():\n",
    "    def __init__(self,pos,text,size=[50,50]):\n",
    "        self.pos=pos\n",
    "        self.text=text\n",
    "        self.size=size\n",
    "buttonlist=[]\n",
    "for i in range(len(keys)):\n",
    "    for x,key in enumerate(keys[i]):\n",
    "        buttonlist.append(Button([100*x,100*i],key))\n",
    "finaltext=\"\"\n",
    "while True:\n",
    "    ret,frame=cap.read()\n",
    "    hands,frame=detector.findHands(frame,draw=True,flipType=False)\n",
    "    frame=drawall(frame,buttonlist)\n",
    "    if hands:\n",
    "        \n",
    "        for button in buttonlist:\n",
    "            x,y=button.pos\n",
    "            w,h=button.size\n",
    "            \n",
    "            \n",
    "            if x<hands[0]['lmList'][8][0]<x+w and y<hands[0]['lmList'][8][1]<y+h:\n",
    "                cv.rectangle(frame,button.pos,(x+w,y+h),(0,255,0),-1)\n",
    "                cv.putText(frame,button.text,(x+6,y+40),cv.FONT_HERSHEY_PLAIN,3,(0,0,0),2)\n",
    "                l,_,_=detector.findDistance((x,y),(hands[0]['lmList'][8][0],hands[0]['lmList'][12][1]))\n",
    "                \n",
    "                if l<30:\n",
    "                    keyboard.press(button.text)\n",
    "                    cv.rectangle(frame,button.pos,(x+w,y+h),(0,255,255),-1)\n",
    "                    cv.putText(frame,button.text,(x+6,y+40),cv.FONT_HERSHEY_PLAIN,3,(0,0,0),2)\n",
    "                    finaltext+=button.text\n",
    "                    sleep(0.15)\n",
    "                    \n",
    "    cv.rectangle(frame,(200,300),(700,350),(0,255,255),-1)\n",
    "    cv.putText(frame,finaltext,(250,340),cv.FONT_HERSHEY_PLAIN,3,(0,0,0),1)\n",
    "                    \n",
    "            \n",
    "    \n",
    "    cv.imshow('frame',frame)\n",
    "    key=cv.waitKey(2)\n",
    "    if key==ord('q'):\n",
    "        break\n",
    "cap.release()\n",
    "cv.destroyAllWindows()"
   ]
  },
  {
   "cell_type": "code",
   "execution_count": null,
   "id": "c480c292",
   "metadata": {},
   "outputs": [],
   "source": []
  },
  {
   "cell_type": "code",
   "execution_count": null,
   "id": "18ed2ab8",
   "metadata": {},
   "outputs": [],
   "source": []
  }
 ],
 "metadata": {
  "kernelspec": {
   "display_name": "Python 3 (ipykernel)",
   "language": "python",
   "name": "python3"
  },
  "language_info": {
   "codemirror_mode": {
    "name": "ipython",
    "version": 3
   },
   "file_extension": ".py",
   "mimetype": "text/x-python",
   "name": "python",
   "nbconvert_exporter": "python",
   "pygments_lexer": "ipython3",
   "version": "3.9.13"
  }
 },
 "nbformat": 4,
 "nbformat_minor": 5
}
